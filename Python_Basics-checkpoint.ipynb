{
 "cells": [
  {
   "cell_type": "code",
   "execution_count": 1,
   "id": "1b4b8ca0-6bb2-4230-a58f-c7cafdc5bbe3",
   "metadata": {},
   "outputs": [
    {
     "name": "stdout",
     "output_type": "stream",
     "text": [
      "Hello World\n"
     ]
    }
   ],
   "source": [
    "print(\"Hello World\")"
   ]
  },
  {
   "cell_type": "markdown",
   "id": "b465e638-ffaf-48c3-9ddf-48a0fcfb709c",
   "metadata": {},
   "source": [
    "VARIABLE in PYTHON"
   ]
  },
  {
   "cell_type": "code",
   "execution_count": 2,
   "id": "26ac1599-afd8-4f47-826b-9c9a25cf8153",
   "metadata": {},
   "outputs": [
    {
     "name": "stdout",
     "output_type": "stream",
     "text": [
      "25\n"
     ]
    }
   ],
   "source": [
    "x=25\n",
    "print(x)"
   ]
  },
  {
   "cell_type": "code",
   "execution_count": 3,
   "id": "21d25cd7-4041-4939-9c9b-af96ff1493c8",
   "metadata": {},
   "outputs": [
    {
     "data": {
      "text/plain": [
       "int"
      ]
     },
     "execution_count": 3,
     "metadata": {},
     "output_type": "execute_result"
    }
   ],
   "source": [
    "type(x)"
   ]
  },
  {
   "cell_type": "code",
   "execution_count": 3,
   "id": "54bdad7a-280a-4cd8-a101-3ca58f782103",
   "metadata": {},
   "outputs": [
    {
     "name": "stdout",
     "output_type": "stream",
     "text": [
      "I am Dhanya\n"
     ]
    }
   ],
   "source": [
    "y=\"I am Dhanya\"\n",
    "print(y)"
   ]
  },
  {
   "cell_type": "code",
   "execution_count": 5,
   "id": "b8f72eef-7bc7-4217-95c2-2b5af0f71429",
   "metadata": {},
   "outputs": [
    {
     "data": {
      "text/plain": [
       "str"
      ]
     },
     "execution_count": 5,
     "metadata": {},
     "output_type": "execute_result"
    }
   ],
   "source": [
    "type(y)"
   ]
  },
  {
   "cell_type": "code",
   "execution_count": 1,
   "id": "29a6cab1-ccf9-4ffc-881f-ff0e7d3b35b1",
   "metadata": {},
   "outputs": [
    {
     "name": "stdout",
     "output_type": "stream",
     "text": [
      "Kind Help Love\n"
     ]
    }
   ],
   "source": [
    "x,y,z=\"Kind\",\"Help\",\"Love\"\n",
    "print(x,y,z)"
   ]
  },
  {
   "cell_type": "code",
   "execution_count": 2,
   "id": "1379b933-6c2f-4d91-be1e-f3e93ad4bba0",
   "metadata": {},
   "outputs": [
    {
     "name": "stdout",
     "output_type": "stream",
     "text": [
      "Kind\n",
      "Help\n",
      "Love\n"
     ]
    }
   ],
   "source": [
    "print(x)\n",
    "print(y)\n",
    "print(z)"
   ]
  },
  {
   "cell_type": "code",
   "execution_count": 9,
   "id": "9e474088-99b0-477e-b6dc-5dda43e98eef",
   "metadata": {},
   "outputs": [
    {
     "name": "stdout",
     "output_type": "stream",
     "text": [
      "choco\n",
      "vani\n",
      "straw\n"
     ]
    }
   ],
   "source": [
    "ice_cream=['choco','vani','straw']\n",
    "x,y,z=ice_cream\n",
    "print(x)\n",
    "print(y)\n",
    "print(z)"
   ]
  },
  {
   "cell_type": "code",
   "execution_count": null,
   "id": "47a404dd-b4c7-4077-958a-eab375bee3b8",
   "metadata": {},
   "outputs": [],
   "source": []
  },
  {
   "cell_type": "code",
   "execution_count": null,
   "id": "21f88c64-0fc5-4895-be72-32c26103ea85",
   "metadata": {},
   "outputs": [],
   "source": [
    "#1_Camel case\n",
    "\n",
    "#Test variable case\n",
    "\n",
    "testVariableCase = 'Vanilla Swirl'\n"
   ]
  },
  {
   "cell_type": "code",
   "execution_count": null,
   "id": "a7b7b026-55ab-49fd-b4cb-d063dd9e03bd",
   "metadata": {},
   "outputs": [],
   "source": []
  },
  {
   "cell_type": "code",
   "execution_count": null,
   "id": "45dae40e-8397-4b71-944e-5ced84bc986f",
   "metadata": {},
   "outputs": [],
   "source": [
    "#2_Pascalcase\n",
    "\n",
    "#Test variable case\n",
    "\n",
    "TestVariableCase = 'Vanilla Swirl'\n"
   ]
  },
  {
   "cell_type": "code",
   "execution_count": null,
   "id": "0e804a82-65af-496e-8c58-696148997889",
   "metadata": {},
   "outputs": [],
   "source": [
    "#3_Snake case\n",
    "\n",
    "#Test variable case\n",
    "\n",
    "test_variable_case = 'Vanilla Swirl'\n"
   ]
  },
  {
   "cell_type": "code",
   "execution_count": 15,
   "id": "2a619d1d-25eb-4d69-b9c5-54324b1e2f00",
   "metadata": {},
   "outputs": [
    {
     "name": "stdout",
     "output_type": "stream",
     "text": [
      "Ice cream is my fav.\n"
     ]
    }
   ],
   "source": [
    "#concatenation\n",
    "\n",
    "x= 'Ice cream is my fav' + '.'\n",
    "print(x)"
   ]
  },
  {
   "cell_type": "code",
   "execution_count": 16,
   "id": "c0e5294b-23c4-4614-b1be-99541f27512d",
   "metadata": {},
   "outputs": [
    {
     "name": "stdout",
     "output_type": "stream",
     "text": [
      "Ice cream is my fav 2\n"
     ]
    }
   ],
   "source": [
    "x= 'Ice cream is my fav' + ' 2'\n",
    "print(x)"
   ]
  },
  {
   "cell_type": "code",
   "execution_count": 11,
   "id": "6bfe2c87-8a9e-4887-b8c7-5016500132be",
   "metadata": {},
   "outputs": [
    {
     "name": "stdout",
     "output_type": "stream",
     "text": [
      "ice cream is my fav\n"
     ]
    }
   ],
   "source": [
    "x= \"ice cream\"\n",
    "y= \" is\"\n",
    "z= \" my fav\"\n",
    "print(x+y+z)"
   ]
  },
  {
   "cell_type": "code",
   "execution_count": 12,
   "id": "2953da15-c704-47bd-af4c-0fae054d9d6b",
   "metadata": {},
   "outputs": [
    {
     "name": "stdout",
     "output_type": "stream",
     "text": [
      "Ice cream 2\n"
     ]
    }
   ],
   "source": [
    "x= \"Ice cream\"\n",
    "y=2\n",
    "print (x,y)"
   ]
  },
  {
   "cell_type": "code",
   "execution_count": null,
   "id": "305e3666-62c5-48f2-a561-982050d6e3e3",
   "metadata": {},
   "outputs": [],
   "source": []
  },
  {
   "cell_type": "markdown",
   "id": "2ac69702-2295-47ff-819e-dd9a5c9cd8b6",
   "metadata": {},
   "source": [
    "DATA TYPES"
   ]
  },
  {
   "cell_type": "code",
   "execution_count": 17,
   "id": "6e12dbfd-c6e4-482f-91cb-28fe968bdc29",
   "metadata": {},
   "outputs": [
    {
     "data": {
      "text/plain": [
       "int"
      ]
     },
     "execution_count": 17,
     "metadata": {},
     "output_type": "execute_result"
    }
   ],
   "source": [
    "type(-12+100)"
   ]
  },
  {
   "cell_type": "code",
   "execution_count": 18,
   "id": "295972f2-8dd1-4571-97d1-1f8cb7e68b54",
   "metadata": {},
   "outputs": [
    {
     "data": {
      "text/plain": [
       "float"
      ]
     },
     "execution_count": 18,
     "metadata": {},
     "output_type": "execute_result"
    }
   ],
   "source": [
    "type(12+10.25)"
   ]
  },
  {
   "cell_type": "code",
   "execution_count": 19,
   "id": "4bc22780-99b8-4758-a349-752faebc7719",
   "metadata": {},
   "outputs": [
    {
     "data": {
      "text/plain": [
       "complex"
      ]
     },
     "execution_count": 19,
     "metadata": {},
     "output_type": "execute_result"
    }
   ],
   "source": [
    "type(12+3j)"
   ]
  },
  {
   "cell_type": "code",
   "execution_count": 24,
   "id": "5935aaf1-525f-4c3b-a64c-69dd2b7f5aad",
   "metadata": {},
   "outputs": [
    {
     "data": {
      "text/plain": [
       "bool"
      ]
     },
     "execution_count": 24,
     "metadata": {},
     "output_type": "execute_result"
    }
   ],
   "source": [
    "#BOOLEAN\n",
    "type(True)\n",
    "\n",
    "type(False)\n",
    "\n",
    "type(5>1)\n",
    "\n",
    "type(1==2)"
   ]
  },
  {
   "cell_type": "code",
   "execution_count": 25,
   "id": "584308f3-9071-4f1f-8d62-c20568ef4469",
   "metadata": {},
   "outputs": [
    {
     "data": {
      "text/plain": [
       "False"
      ]
     },
     "execution_count": 25,
     "metadata": {},
     "output_type": "execute_result"
    }
   ],
   "source": [
    "1==2"
   ]
  },
  {
   "cell_type": "code",
   "execution_count": 26,
   "id": "4f083aa8-fe0d-4f87-b9c1-be8041d5cf73",
   "metadata": {},
   "outputs": [
    {
     "data": {
      "text/plain": [
       "'Single Quote'"
      ]
     },
     "execution_count": 26,
     "metadata": {},
     "output_type": "execute_result"
    }
   ],
   "source": [
    "#STRINGS\n",
    "'Single Quote'"
   ]
  },
  {
   "cell_type": "code",
   "execution_count": 27,
   "id": "0c8d3dfc-7278-4c5b-8c3c-fd2223f27140",
   "metadata": {},
   "outputs": [
    {
     "data": {
      "text/plain": [
       "'Double Quote'"
      ]
     },
     "execution_count": 27,
     "metadata": {},
     "output_type": "execute_result"
    }
   ],
   "source": [
    "\"Double Quote\""
   ]
  },
  {
   "cell_type": "code",
   "execution_count": 4,
   "id": "a2ff3ed4-6d3a-44e3-8642-28d17d53e1e1",
   "metadata": {},
   "outputs": [
    {
     "name": "stdout",
     "output_type": "stream",
     "text": [
      " \n",
      "My name is Dhanya.\n",
      "I live in Uk.\n",
      "My hobbies are cooking and dancing.\n",
      "\n"
     ]
    }
   ],
   "source": [
    "multiline=\"\"\" \n",
    "My name is Dhanya.\n",
    "I live in Uk.\n",
    "My hobbies are cooking and dancing.\n",
    "\"\"\"\n",
    "\n",
    "print(multiline)"
   ]
  },
  {
   "cell_type": "code",
   "execution_count": 34,
   "id": "5dc3f3a3-3b7a-448c-9820-1b07b0b3ef9f",
   "metadata": {},
   "outputs": [
    {
     "name": "stdout",
     "output_type": "stream",
     "text": [
      "Hello\n",
      "_\n",
      "W\n",
      "llo\n",
      "Hello_World!Hello_World!Hello_World!\n",
      "Hello_World!Hello_World!\n"
     ]
    }
   ],
   "source": [
    "a= 'Hello_World!'\n",
    "\n",
    "print(a[:5])\n",
    "print(a[5])\n",
    "print(a[6])\n",
    "print(a[2:5])\n",
    "print(a*3)\n",
    "print(a+a)"
   ]
  },
  {
   "cell_type": "code",
   "execution_count": 35,
   "id": "ec9590a5-6aae-418e-9889-5821a2e66770",
   "metadata": {},
   "outputs": [
    {
     "data": {
      "text/plain": [
       "['Vanilla', 'Straw', 'Choco', 'Caramel']"
      ]
     },
     "execution_count": 35,
     "metadata": {},
     "output_type": "execute_result"
    }
   ],
   "source": [
    "#LIST\n",
    "\n",
    "ice_cream= ['Vanilla','Straw','Choco']\n",
    "ice_cream.append('Caramel')\n",
    "ice_cream"
   ]
  },
  {
   "cell_type": "code",
   "execution_count": 36,
   "id": "a3265054-5d75-4dba-b4e9-9cff75a5837c",
   "metadata": {},
   "outputs": [
    {
     "data": {
      "text/plain": [
       "['Butter Scotch', 'Straw', 'Choco', 'Caramel']"
      ]
     },
     "execution_count": 36,
     "metadata": {},
     "output_type": "execute_result"
    }
   ],
   "source": [
    "ice_cream[0]='Butter Scotch'\n",
    "ice_cream"
   ]
  },
  {
   "cell_type": "code",
   "execution_count": 37,
   "id": "35100968-9aac-4847-b124-dfbc154b21fe",
   "metadata": {},
   "outputs": [
    {
     "data": {
      "text/plain": [
       "['Scoops', 'Spoon']"
      ]
     },
     "execution_count": 37,
     "metadata": {},
     "output_type": "execute_result"
    }
   ],
   "source": [
    "#NESTED LIST\n",
    "\n",
    "nest_list=['Vani',3,['Scoops','Spoon'],True]\n",
    "\n",
    "nest_list[2]"
   ]
  },
  {
   "cell_type": "code",
   "execution_count": 38,
   "id": "ff19e577-f623-4380-a8d0-3cc6a4082f1e",
   "metadata": {},
   "outputs": [
    {
     "data": {
      "text/plain": [
       "'Spoon'"
      ]
     },
     "execution_count": 38,
     "metadata": {},
     "output_type": "execute_result"
    }
   ],
   "source": [
    "nest_list[2][1]"
   ]
  },
  {
   "cell_type": "code",
   "execution_count": 39,
   "id": "ae31b27c-13b3-4aed-85e9-3eb40a3e5e8d",
   "metadata": {},
   "outputs": [
    {
     "data": {
      "text/plain": [
       "'Vani'"
      ]
     },
     "execution_count": 39,
     "metadata": {},
     "output_type": "execute_result"
    }
   ],
   "source": [
    "nest_list[0]"
   ]
  },
  {
   "cell_type": "code",
   "execution_count": 73,
   "id": "3dd59204-b6c5-49b1-8f85-9169ccb9c661",
   "metadata": {},
   "outputs": [],
   "source": [
    "#TUPLE\n",
    "\n",
    "tuple_scoops = (1,2,3,1)"
   ]
  },
  {
   "cell_type": "code",
   "execution_count": 74,
   "id": "f085f3aa-b05a-47a1-b820-9849946dbd29",
   "metadata": {},
   "outputs": [
    {
     "data": {
      "text/plain": [
       "tuple"
      ]
     },
     "execution_count": 74,
     "metadata": {},
     "output_type": "execute_result"
    }
   ],
   "source": [
    "type(tuple_scoops)"
   ]
  },
  {
   "cell_type": "code",
   "execution_count": 72,
   "id": "2ed9f12f-57fa-4142-81a9-cbc0bb861ac2",
   "metadata": {},
   "outputs": [
    {
     "data": {
      "text/plain": [
       "1"
      ]
     },
     "execution_count": 72,
     "metadata": {},
     "output_type": "execute_result"
    }
   ],
   "source": [
    "tuple_scoops[0]"
   ]
  },
  {
   "cell_type": "code",
   "execution_count": 44,
   "id": "686c563b-1964-4293-a507-627439c12592",
   "metadata": {},
   "outputs": [],
   "source": [
    "#SETS\n",
    "\n",
    "daily_pints ={1,2,3}\n"
   ]
  },
  {
   "cell_type": "code",
   "execution_count": 45,
   "id": "067fd19f-0c8e-427e-b959-1d5d26d9371e",
   "metadata": {},
   "outputs": [
    {
     "data": {
      "text/plain": [
       "set"
      ]
     },
     "execution_count": 45,
     "metadata": {},
     "output_type": "execute_result"
    }
   ],
   "source": [
    "type(daily_pints)"
   ]
  },
  {
   "cell_type": "code",
   "execution_count": 46,
   "id": "ce4d3f60-34d4-4d78-8c1b-5337e8d3fbb4",
   "metadata": {},
   "outputs": [
    {
     "name": "stdout",
     "output_type": "stream",
     "text": [
      "{32, 1, 2, 3, 4, 5, 6, 7, 8}\n"
     ]
    }
   ],
   "source": [
    "daily_pints_log={1,2,32,4,5,1,3,2,6,7,6,8}\n",
    "\n",
    "print(daily_pints_log)"
   ]
  },
  {
   "cell_type": "code",
   "execution_count": 50,
   "id": "b1de58a0-e27d-4e30-b01d-45634913fdd3",
   "metadata": {},
   "outputs": [
    {
     "name": "stdout",
     "output_type": "stream",
     "text": [
      "{0, 1, 2, 3, 5, 6, 7}\n"
     ]
    }
   ],
   "source": [
    "wifes_daily_pints_log = {1,2,5,6,3,2,1,6,5,7,0}\n",
    "print(wifes_daily_pints_log)"
   ]
  },
  {
   "cell_type": "code",
   "execution_count": 51,
   "id": "fb974f16-f0f4-4bac-8390-d0a0e0483012",
   "metadata": {},
   "outputs": [
    {
     "name": "stdout",
     "output_type": "stream",
     "text": [
      "{32, 1, 2, 3, 4, 5, 6, 7, 8, 0}\n"
     ]
    }
   ],
   "source": [
    "#Compare both values without duplicates\n",
    "\n",
    "print(daily_pints_log | wifes_daily_pints_log)"
   ]
  },
  {
   "cell_type": "code",
   "execution_count": 57,
   "id": "158d125a-8527-4f9d-9582-a079128eff6c",
   "metadata": {},
   "outputs": [
    {
     "name": "stdout",
     "output_type": "stream",
     "text": [
      "{1, 2, 3, 5, 6, 7}\n"
     ]
    }
   ],
   "source": [
    "#Shows us matching values in both sets \n",
    "\n",
    "print(daily_pints_log & wifes_daily_pints_log)"
   ]
  },
  {
   "cell_type": "code",
   "execution_count": 54,
   "id": "88bf8593-d62a-4484-91da-cbdb7e8e5225",
   "metadata": {},
   "outputs": [
    {
     "name": "stdout",
     "output_type": "stream",
     "text": [
      "{32, 8, 4}\n"
     ]
    }
   ],
   "source": [
    "#Subtracts 1st set with 2nd set \n",
    "\n",
    "print(daily_pints_log - wifes_daily_pints_log)"
   ]
  },
  {
   "cell_type": "code",
   "execution_count": 55,
   "id": "29514932-b150-493d-afe6-8497ed9e3e61",
   "metadata": {},
   "outputs": [
    {
     "name": "stdout",
     "output_type": "stream",
     "text": [
      "{0}\n"
     ]
    }
   ],
   "source": [
    "print(wifes_daily_pints_log - daily_pints_log)"
   ]
  },
  {
   "cell_type": "code",
   "execution_count": 56,
   "id": "65717bdc-90ad-4f8c-b18f-7cbfa5a17bd5",
   "metadata": {},
   "outputs": [
    {
     "name": "stdout",
     "output_type": "stream",
     "text": [
      "{0, 32, 4, 8}\n"
     ]
    }
   ],
   "source": [
    "#returns unique values in both the sets\n",
    "\n",
    "print(daily_pints_log ^ wifes_daily_pints_log)"
   ]
  },
  {
   "cell_type": "code",
   "execution_count": 58,
   "id": "3ab85ee8-be77-42a2-a448-556c87538f0e",
   "metadata": {},
   "outputs": [],
   "source": [
    "#DICTIONARY\n",
    "\n",
    "dict_cream ={'name':'Dhanya','weekly intake':5,'fav ice cream':['MCC','Choco']}"
   ]
  },
  {
   "cell_type": "code",
   "execution_count": 59,
   "id": "8ec9e2c4-4d87-4643-a33f-cb1c69de5381",
   "metadata": {},
   "outputs": [
    {
     "data": {
      "text/plain": [
       "dict"
      ]
     },
     "execution_count": 59,
     "metadata": {},
     "output_type": "execute_result"
    }
   ],
   "source": [
    "type(dict_cream)"
   ]
  },
  {
   "cell_type": "code",
   "execution_count": 60,
   "id": "9da3a81e-99d5-4e72-8f7e-6bb38317654f",
   "metadata": {},
   "outputs": [
    {
     "data": {
      "text/plain": [
       "dict_values(['Dhanya', 5, ['MCC', 'Choco']])"
      ]
     },
     "execution_count": 60,
     "metadata": {},
     "output_type": "execute_result"
    }
   ],
   "source": [
    "dict_cream.values()"
   ]
  },
  {
   "cell_type": "code",
   "execution_count": 61,
   "id": "81057590-4b2f-4d65-9153-8be4876b526f",
   "metadata": {},
   "outputs": [
    {
     "data": {
      "text/plain": [
       "dict_keys(['name', 'weekly intake', 'fav ice cream'])"
      ]
     },
     "execution_count": 61,
     "metadata": {},
     "output_type": "execute_result"
    }
   ],
   "source": [
    "dict_cream.keys()"
   ]
  },
  {
   "cell_type": "code",
   "execution_count": 62,
   "id": "d88129ac-a43f-42cf-885c-a8cff83f18f6",
   "metadata": {},
   "outputs": [
    {
     "data": {
      "text/plain": [
       "dict_items([('name', 'Dhanya'), ('weekly intake', 5), ('fav ice cream', ['MCC', 'Choco'])])"
      ]
     },
     "execution_count": 62,
     "metadata": {},
     "output_type": "execute_result"
    }
   ],
   "source": [
    "dict_cream.items()"
   ]
  },
  {
   "cell_type": "code",
   "execution_count": 63,
   "id": "501216ad-3309-40bc-ab36-395eae76a223",
   "metadata": {},
   "outputs": [
    {
     "data": {
      "text/plain": [
       "'Dhanya'"
      ]
     },
     "execution_count": 63,
     "metadata": {},
     "output_type": "execute_result"
    }
   ],
   "source": [
    "dict_cream['name']"
   ]
  },
  {
   "cell_type": "code",
   "execution_count": 65,
   "id": "96cdfca1-a56b-4576-9058-343220b37847",
   "metadata": {},
   "outputs": [
    {
     "name": "stdout",
     "output_type": "stream",
     "text": [
      "{'name': 'Ravi', 'weekly intake': 5, 'fav ice cream': ['MCC', 'Choco']}\n"
     ]
    }
   ],
   "source": [
    "dict_cream['name']='Ravi'\n",
    "\n",
    "print(dict_cream)"
   ]
  },
  {
   "cell_type": "code",
   "execution_count": 69,
   "id": "6fb1022b-58b5-4ba4-a747-9955837a4977",
   "metadata": {},
   "outputs": [
    {
     "name": "stdout",
     "output_type": "stream",
     "text": [
      "{'name': 'Dhanya', 'weekly intake': 5, 'fav ice cream': ['MCC', 'Choco'], 'weight': 300}\n"
     ]
    }
   ],
   "source": [
    "dict_cream.update({'name':'Dhanya','weekly intake':5,'weight':300})\n",
    "print(dict_cream)"
   ]
  },
  {
   "cell_type": "code",
   "execution_count": 70,
   "id": "34ba4a04-a694-44c1-9268-9f9e60193093",
   "metadata": {},
   "outputs": [
    {
     "name": "stdout",
     "output_type": "stream",
     "text": [
      "{'name': 'Dhanya', 'weekly intake': 5, 'fav ice cream': ['MCC', 'Choco']}\n"
     ]
    }
   ],
   "source": [
    "del dict_cream['weight']\n",
    "print(dict_cream)"
   ]
  },
  {
   "cell_type": "code",
   "execution_count": null,
   "id": "e1f1af99-4b92-4d52-9d32-225e23d826b8",
   "metadata": {},
   "outputs": [],
   "source": []
  },
  {
   "cell_type": "code",
   "execution_count": null,
   "id": "f6deece5-44c4-486f-921c-bf25ccc3c93d",
   "metadata": {},
   "outputs": [],
   "source": []
  },
  {
   "cell_type": "code",
   "execution_count": null,
   "id": "fa6d1533-39b5-464c-846b-72702cde05ab",
   "metadata": {},
   "outputs": [],
   "source": []
  },
  {
   "cell_type": "code",
   "execution_count": null,
   "id": "8ffefcb1-ddff-4cfd-bdaa-b4fb1e099a6e",
   "metadata": {},
   "outputs": [],
   "source": []
  },
  {
   "cell_type": "code",
   "execution_count": null,
   "id": "7b934ce0-bee4-46ad-ac94-c476f32ee34c",
   "metadata": {},
   "outputs": [],
   "source": []
  },
  {
   "cell_type": "code",
   "execution_count": null,
   "id": "2f983bc6-3c2d-404e-9372-0879cf790f2e",
   "metadata": {},
   "outputs": [],
   "source": []
  },
  {
   "cell_type": "code",
   "execution_count": null,
   "id": "0afe96ed-34de-4096-a7ea-9909c0325fe4",
   "metadata": {},
   "outputs": [],
   "source": []
  },
  {
   "cell_type": "code",
   "execution_count": null,
   "id": "16699df2-82cd-4257-818f-65c0b7489107",
   "metadata": {},
   "outputs": [],
   "source": []
  },
  {
   "cell_type": "code",
   "execution_count": null,
   "id": "3940590e-b46d-494c-aee7-e2f73b3c7609",
   "metadata": {},
   "outputs": [],
   "source": []
  },
  {
   "cell_type": "code",
   "execution_count": null,
   "id": "c7a91964-38ca-4417-94e9-8e3993ff47e2",
   "metadata": {},
   "outputs": [],
   "source": []
  },
  {
   "cell_type": "code",
   "execution_count": null,
   "id": "c7819ac0-17fd-42be-a1a6-e4ea8bf13915",
   "metadata": {},
   "outputs": [],
   "source": []
  },
  {
   "cell_type": "code",
   "execution_count": null,
   "id": "770f83ee-e703-44e0-b37e-63bc13276882",
   "metadata": {},
   "outputs": [],
   "source": []
  },
  {
   "cell_type": "code",
   "execution_count": null,
   "id": "8d7ace31-0ad5-4cb3-8c70-1e84aac4ad0c",
   "metadata": {},
   "outputs": [],
   "source": []
  },
  {
   "cell_type": "code",
   "execution_count": null,
   "id": "68476fa5-2374-464d-8c62-ead2075f142f",
   "metadata": {},
   "outputs": [],
   "source": []
  },
  {
   "cell_type": "code",
   "execution_count": null,
   "id": "31d6e661-5f6c-403f-9db3-90cfeb3feafe",
   "metadata": {},
   "outputs": [],
   "source": []
  },
  {
   "cell_type": "code",
   "execution_count": null,
   "id": "3b0a6564-8cae-4275-ae12-4f4f344040ad",
   "metadata": {},
   "outputs": [],
   "source": []
  },
  {
   "cell_type": "code",
   "execution_count": null,
   "id": "29cf575b-1382-478b-8505-c8dd4d1833fa",
   "metadata": {},
   "outputs": [],
   "source": []
  },
  {
   "cell_type": "code",
   "execution_count": null,
   "id": "41ce1787-9bce-4293-bb50-50d31a136ed1",
   "metadata": {},
   "outputs": [],
   "source": []
  },
  {
   "cell_type": "code",
   "execution_count": null,
   "id": "6faf4f19-3c69-4e40-912b-4fa291231644",
   "metadata": {},
   "outputs": [],
   "source": []
  },
  {
   "cell_type": "code",
   "execution_count": null,
   "id": "3f561fbb-c43f-41a5-923c-0ebddb7742e4",
   "metadata": {},
   "outputs": [],
   "source": []
  },
  {
   "cell_type": "code",
   "execution_count": null,
   "id": "5829983a-baf8-4956-aa7d-ae0749de1788",
   "metadata": {},
   "outputs": [],
   "source": []
  },
  {
   "cell_type": "code",
   "execution_count": null,
   "id": "3a9aac30-d834-4d0f-b1a8-bf555b77fa7b",
   "metadata": {},
   "outputs": [],
   "source": []
  },
  {
   "cell_type": "code",
   "execution_count": null,
   "id": "76ab4e1c-2934-4309-9fbf-4a47d8761429",
   "metadata": {},
   "outputs": [],
   "source": []
  },
  {
   "cell_type": "code",
   "execution_count": null,
   "id": "b2c642f5-eb0e-462f-8377-131534090208",
   "metadata": {},
   "outputs": [],
   "source": []
  }
 ],
 "metadata": {
  "kernelspec": {
   "display_name": "Python 3 (ipykernel)",
   "language": "python",
   "name": "python3"
  },
  "language_info": {
   "codemirror_mode": {
    "name": "ipython",
    "version": 3
   },
   "file_extension": ".py",
   "mimetype": "text/x-python",
   "name": "python",
   "nbconvert_exporter": "python",
   "pygments_lexer": "ipython3",
   "version": "3.13.1"
  }
 },
 "nbformat": 4,
 "nbformat_minor": 5
}
