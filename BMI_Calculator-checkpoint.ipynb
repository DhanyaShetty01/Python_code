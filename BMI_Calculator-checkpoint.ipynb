{
 "cells": [
  {
   "cell_type": "markdown",
   "id": "f3c2910c-ce3b-4fb9-9af5-3718af275dbb",
   "metadata": {},
   "source": [
    "BMI Calculator"
   ]
  },
  {
   "cell_type": "code",
   "execution_count": 2,
   "id": "f8b25e57-c7ed-402b-9a3b-3454d4b4a534",
   "metadata": {},
   "outputs": [
    {
     "name": "stdin",
     "output_type": "stream",
     "text": [
      "Enter your name:  Dhanya\n",
      "Enter your weight in pounds:  136\n",
      "Enter height in inches:  66\n"
     ]
    },
    {
     "name": "stdout",
     "output_type": "stream",
     "text": [
      "21.948576675849402\n",
      "Normal\n"
     ]
    }
   ],
   "source": [
    "Name = input(\"Enter your name: \")\n",
    "\n",
    "weight = int(input('Enter your weight in pounds: '))\n",
    "\n",
    "height = int(input('Enter height in inches: '))\n",
    "\n",
    "BMI = (weight * 703)/(height*height)\n",
    "\n",
    "print(BMI)\n",
    "\n",
    "if BMI > 0:\n",
    "    if BMI<18.5:\n",
    "        print(\"Underweight\")\n",
    "    elif BMI<=24.9:\n",
    "        print(\"Normal\")\n",
    "    elif BMI<=29.9:\n",
    "        print(\"Overweight\")\n",
    "    elif BMI<=34.9:\n",
    "        print(\"Obese\")\n",
    "    elif BMI<=39.9:\n",
    "        print(\"Severly obese\")\n",
    "    else:\n",
    "        print(\"morbidly obese\")\n",
    "else:\n",
    "    print(\"Enter valid inputs\")"
   ]
  },
  {
   "cell_type": "code",
   "execution_count": null,
   "id": "68e8069a-be05-4ed8-a69e-7ebb5f5f8b77",
   "metadata": {},
   "outputs": [],
   "source": []
  }
 ],
 "metadata": {
  "kernelspec": {
   "display_name": "Python 3 (ipykernel)",
   "language": "python",
   "name": "python3"
  },
  "language_info": {
   "codemirror_mode": {
    "name": "ipython",
    "version": 3
   },
   "file_extension": ".py",
   "mimetype": "text/x-python",
   "name": "python",
   "nbconvert_exporter": "python",
   "pygments_lexer": "ipython3",
   "version": "3.13.1"
  }
 },
 "nbformat": 4,
 "nbformat_minor": 5
}
